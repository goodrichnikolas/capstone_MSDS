{
 "cells": [
  {
   "cell_type": "markdown",
   "metadata": {},
   "source": [
    "# Kevin's analysis Jupyter Notebook\n",
    "\n",
    "This is going to be merged with Nik's once we have all the different analysis types we want put together\n",
    "\n",
    "We start by pulling in the \"environment classes\" which has the ppo waterworld class inside"
   ]
  },
  {
   "cell_type": "code",
   "execution_count": 2,
   "metadata": {},
   "outputs": [],
   "source": [
    "from util import environment_classes"
   ]
  },
  {
   "cell_type": "markdown",
   "metadata": {},
   "source": [
    "let's start by training and examining an instance with a single agent, no cooperation\n"
   ]
  },
  {
   "cell_type": "code",
   "execution_count": null,
   "metadata": {},
   "outputs": [],
   "source": [
    "# call the waterworld_ppo class with custom options -- only one agent needs to touch, and only one pursuer\n",
    "single_agent = environment_classes.waterworld_ppo(log_dir='log_dir/single_agent', n_coop = 1, n_pursuers = 1)\n",
    "\n",
    "# we're going to run a train/test loop. 20 iterations of each, 100,000 steps per training loop, 10 games per evaluation set\n",
    "single_agent.interlace_run(num_loops=20, num_games=10)\n",
    "\n",
    "# now let's plot the results\n",
    "single_agent.plot_rewards()"
   ]
  }
 ],
 "metadata": {
  "kernelspec": {
   "display_name": "capstone",
   "language": "python",
   "name": "python3"
  },
  "language_info": {
   "codemirror_mode": {
    "name": "ipython",
    "version": 3
   },
   "file_extension": ".py",
   "mimetype": "text/x-python",
   "name": "python",
   "nbconvert_exporter": "python",
   "pygments_lexer": "ipython3",
   "version": "3.10.0"
  }
 },
 "nbformat": 4,
 "nbformat_minor": 2
}
