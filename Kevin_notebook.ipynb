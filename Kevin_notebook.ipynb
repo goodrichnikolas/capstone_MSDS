{
 "cells": [
  {
   "cell_type": "markdown",
   "metadata": {},
   "source": [
    "# Kevin's analysis Jupyter Notebook\n",
    "\n",
    "This is going to be merged with Nik's once we have all the different analysis types we want put together\n",
    "\n",
    "We start by pulling in the \"environment classes\" which has the ppo waterworld class inside"
   ]
  },
  {
   "cell_type": "code",
   "execution_count": 2,
   "metadata": {},
   "outputs": [],
   "source": [
    "from util import environment_classes"
   ]
  },
  {
   "cell_type": "markdown",
   "metadata": {},
   "source": [
    "let's start by training and examining an instance with a single agent, no cooperation\n"
   ]
  },
  {
   "cell_type": "code",
   "execution_count": 1,
   "metadata": {},
   "outputs": [
    {
     "ename": "NameError",
     "evalue": "name 'environment_classes' is not defined",
     "output_type": "error",
     "traceback": [
      "\u001b[1;31m---------------------------------------------------------------------------\u001b[0m",
      "\u001b[1;31mNameError\u001b[0m                                 Traceback (most recent call last)",
      "\u001b[1;32mc:\\Users\\17204\\Documents\\git\\capstone_MSDS\\Kevin_notebook.ipynb Cell 4\u001b[0m line \u001b[0;36m2\n\u001b[0;32m      <a href='vscode-notebook-cell:/c%3A/Users/17204/Documents/git/capstone_MSDS/Kevin_notebook.ipynb#W5sZmlsZQ%3D%3D?line=0'>1</a>\u001b[0m \u001b[39m# call the waterworld_ppo class with custom options -- only one agent needs to touch, and only one pursuer\u001b[39;00m\n\u001b[1;32m----> <a href='vscode-notebook-cell:/c%3A/Users/17204/Documents/git/capstone_MSDS/Kevin_notebook.ipynb#W5sZmlsZQ%3D%3D?line=1'>2</a>\u001b[0m single_agent \u001b[39m=\u001b[39m environment_classes\u001b[39m.\u001b[39mwaterworld_ppo(log_dir\u001b[39m=\u001b[39m\u001b[39m'\u001b[39m\u001b[39mlog_dir/single_agent\u001b[39m\u001b[39m'\u001b[39m, n_coop \u001b[39m=\u001b[39m \u001b[39m1\u001b[39m, n_pursuers \u001b[39m=\u001b[39m \u001b[39m1\u001b[39m)\n\u001b[0;32m      <a href='vscode-notebook-cell:/c%3A/Users/17204/Documents/git/capstone_MSDS/Kevin_notebook.ipynb#W5sZmlsZQ%3D%3D?line=3'>4</a>\u001b[0m \u001b[39m# we're going to run a train/test loop. 20 iterations of each, 100,000 steps per training loop, 10 games per evaluation set\u001b[39;00m\n\u001b[0;32m      <a href='vscode-notebook-cell:/c%3A/Users/17204/Documents/git/capstone_MSDS/Kevin_notebook.ipynb#W5sZmlsZQ%3D%3D?line=4'>5</a>\u001b[0m single_agent\u001b[39m.\u001b[39minterlace_run(num_loops\u001b[39m=\u001b[39m\u001b[39m100\u001b[39m, num_games\u001b[39m=\u001b[39m\u001b[39m10\u001b[39m, num_steps\u001b[39m=\u001b[39m\u001b[39m1000\u001b[39m)\n",
      "\u001b[1;31mNameError\u001b[0m: name 'environment_classes' is not defined"
     ]
    }
   ],
   "source": [
    "# call the waterworld_ppo class with custom options -- only one agent needs to touch, and only one pursuer\n",
    "single_agent = environment_classes.waterworld_ppo(log_dir='log_dir/single_agent', n_coop = 1, n_pursuers = 1)\n",
    "\n",
    "# we're going to run a train/test loop. 20 iterations of each, 100,000 steps per training loop, 10 games per evaluation set\n",
    "single_agent.interlace_run(num_loops=100, num_games=10, num_steps=1000)\n",
    "\n",
    "# now let's plot the results\n",
    "# single_agent.plot_rewards()"
   ]
  },
  {
   "cell_type": "markdown",
   "metadata": {},
   "source": [
    "now let's try a basic 4 agent, cooperation = 2 setup. This doesn't use CTDE, so there isn't any coordinated learning in any way"
   ]
  },
  {
   "cell_type": "code",
   "execution_count": null,
   "metadata": {},
   "outputs": [],
   "source": [
    "basic_multi = environment_classes.waterworld_ppo(log_dir='log_dir/basic_multi', n_coop = 2, n_pursuers = 4)"
   ]
  },
  {
   "cell_type": "code",
   "execution_count": null,
   "metadata": {},
   "outputs": [],
   "source": [
    "basic_multi.interlace_run(num_loops=20, num_games=10)\n",
    "basic_multi.plot_rewards()"
   ]
  },
  {
   "cell_type": "code",
   "execution_count": null,
   "metadata": {},
   "outputs": [],
   "source": [
    "import stable_baselines3"
   ]
  },
  {
   "cell_type": "code",
   "execution_count": null,
   "metadata": {},
   "outputs": [],
   "source": [
    "stable_baselines3.PPO"
   ]
  },
  {
   "cell_type": "code",
   "execution_count": null,
   "metadata": {},
   "outputs": [],
   "source": [
    "import tensorboard\n",
    "%load_ext tensorboard"
   ]
  },
  {
   "cell_type": "code",
   "execution_count": null,
   "metadata": {},
   "outputs": [],
   "source": [
    "%tensorboard --logdir './log_dir/single_agent/tensorboard_logs/'"
   ]
  }
 ],
 "metadata": {
  "kernelspec": {
   "display_name": "capstone",
   "language": "python",
   "name": "python3"
  },
  "language_info": {
   "codemirror_mode": {
    "name": "ipython",
    "version": 3
   },
   "file_extension": ".py",
   "mimetype": "text/x-python",
   "name": "python",
   "nbconvert_exporter": "python",
   "pygments_lexer": "ipython3",
   "version": "3.10.0"
  }
 },
 "nbformat": 4,
 "nbformat_minor": 2
}
